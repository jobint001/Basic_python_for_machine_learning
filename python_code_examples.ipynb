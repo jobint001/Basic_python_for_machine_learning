{
  "nbformat": 4,
  "nbformat_minor": 0,
  "metadata": {
    "colab": {
      "provenance": [],
      "authorship_tag": "ABX9TyN2AMOa5j8HrxWon+yDG3tV",
      "include_colab_link": true
    },
    "kernelspec": {
      "name": "python3",
      "display_name": "Python 3"
    },
    "language_info": {
      "name": "python"
    }
  },
  "cells": [
    {
      "cell_type": "markdown",
      "metadata": {
        "id": "view-in-github",
        "colab_type": "text"
      },
      "source": [
        "<a href=\"https://colab.research.google.com/github/jobint001/Basic_python_for_machine_learning/blob/main/python_code_examples.ipynb\" target=\"_parent\"><img src=\"https://colab.research.google.com/assets/colab-badge.svg\" alt=\"Open In Colab\"/></a>"
      ]
    },
    {
      "cell_type": "markdown",
      "source": [
        "## 1. Program to find largest of three numbers\n",
        "\n",
        "\n"
      ],
      "metadata": {
        "id": "M71fbCtRpBXZ"
      }
    },
    {
      "cell_type": "markdown",
      "source": [
        "-  **Step 1**:Read the numbers from the user\n",
        "\n",
        "- **Step 2**:Find the largest number using conditionals `if-elif-else`\n",
        "\n",
        "- **Step 3**:Print the largest number"
      ],
      "metadata": {
        "id": "Bl2qICinAhQU"
      }
    },
    {
      "cell_type": "code",
      "source": [
        "\"\"\"\n",
        "# Python program to find the largest number among the three input numbers\n",
        "\"\"\"\n",
        "num1 = 40\n",
        "num2 = 24\n",
        "num3 = 32\n",
        "#uncomment following lines to take three numbers from user\n",
        "num1 = float(input(\"Enter first number: \"))\n",
        "num2 = float(input(\"Enter second number: \"))\n",
        "num3 = float(input(\"Enter third number: \"))\n",
        "if (num1 >= num2) and (num1 >= num3):\n",
        "   largest = num1\n",
        "elif (num2 >= num1) and (num2 >= num3):\n",
        "   largest = num2\n",
        "else:\n",
        "   largest = num3\n",
        "print(\"The largest number is\", largest)"
      ],
      "metadata": {
        "colab": {
          "base_uri": "https://localhost:8080/"
        },
        "id": "WcP-Y18qAOWN",
        "outputId": "e944729d-905e-482a-bae4-61175647d618"
      },
      "execution_count": 2,
      "outputs": [
        {
          "output_type": "stream",
          "name": "stdout",
          "text": [
            "Enter first number: 6\n",
            "Enter second number: 7\n",
            "Enter third number: 2\n",
            "The largest number is 7.0\n"
          ]
        }
      ]
    },
    {
      "cell_type": "markdown",
      "source": [
        "## 2.Printing multiplication table\n",
        "- **Step 1**:Read the number \n",
        "- **Step 2**:Using `for-loop` print the multiplication table upto 10"
      ],
      "metadata": {
        "id": "yiWkBjCAR_0-"
      }
    },
    {
      "cell_type": "code",
      "source": [
        "# Multiplication table (from 1 to 10) in Python\n",
        "\n",
        "num = 12\n",
        "\n",
        "# To take input from the user\n",
        "# num = int(input(\"Display multiplication table of? \"))\n",
        "\n",
        "# Iterate 10 times from i = 1 to 10\n",
        "for i in range(1, 11):\n",
        "   print(num, 'x', i, '=', num*i)"
      ],
      "metadata": {
        "colab": {
          "base_uri": "https://localhost:8080/"
        },
        "id": "qIxwWkE_CaWm",
        "outputId": "1664b905-fa76-4269-95f3-1d8b04de8223"
      },
      "execution_count": 9,
      "outputs": [
        {
          "output_type": "stream",
          "name": "stdout",
          "text": [
            "12 x 1 = 12\n",
            "12 x 2 = 24\n",
            "12 x 3 = 36\n",
            "12 x 4 = 48\n",
            "12 x 5 = 60\n",
            "12 x 6 = 72\n",
            "12 x 7 = 84\n",
            "12 x 8 = 96\n",
            "12 x 9 = 108\n",
            "12 x 10 = 120\n"
          ]
        }
      ]
    },
    {
      "cell_type": "markdown",
      "source": [
        ">**Task:** Get an integer less than 12 from the user and display its's ,multiplication table.\n",
        "\n",
        "- **Step 1**:Read the number from the user which is less than 12.\n",
        "- **Step 2**:Using `for-loop` display the multiplication table."
      ],
      "metadata": {
        "id": "NLCPCHIQx7I6"
      }
    },
    {
      "cell_type": "code",
      "source": [
        "# To take input from the user\n",
        "num = int(input(\"Display multiplication table of? \"))\n",
        "\n",
        "# Iterate 10 times from i = 1 to 10\n",
        "for i in range(1, 11):\n",
        "   print(i, 'x', num, '=', num*i)"
      ],
      "metadata": {
        "colab": {
          "base_uri": "https://localhost:8080/"
        },
        "id": "SOKwWyaCC6sN",
        "outputId": "b3f98397-0e95-4b0f-9e8c-d2f3d5a0fc1d"
      },
      "execution_count": 8,
      "outputs": [
        {
          "output_type": "stream",
          "name": "stdout",
          "text": [
            "Display multiplication table of? 4\n",
            "1 x 4 = 4\n",
            "2 x 4 = 8\n",
            "3 x 4 = 12\n",
            "4 x 4 = 16\n",
            "5 x 4 = 20\n",
            "6 x 4 = 24\n",
            "7 x 4 = 28\n",
            "8 x 4 = 32\n",
            "9 x 4 = 36\n",
            "10 x 4 = 40\n"
          ]
        }
      ]
    },
    {
      "cell_type": "markdown",
      "source": [
        "## 3.Check for sign of a number\n",
        "- **Step 1**:Read the number from the user.\n",
        "- **Step 2**:Using `if-elif-else` find the sign of the number.\n",
        "-**Step 3**:Display the sign."
      ],
      "metadata": {
        "id": "yo27A0UgSLMG"
      }
    },
    {
      "cell_type": "code",
      "source": [
        "num = float(input(\"Enter a number: \"))\n",
        "if num > 0:\n",
        "   print(\"Positive number\")\n",
        "elif num == 0:\n",
        "   print(\"Zero\")\n",
        "else:\n",
        "   print(\"Negative number\")"
      ],
      "metadata": {
        "colab": {
          "base_uri": "https://localhost:8080/"
        },
        "id": "-ksOKo_0DbR-",
        "outputId": "fcf9d68d-cbcb-4208-b164-196d1d2f5011"
      },
      "execution_count": 7,
      "outputs": [
        {
          "output_type": "stream",
          "name": "stdout",
          "text": [
            "Enter a number: 7\n",
            "Positive number\n"
          ]
        }
      ]
    },
    {
      "cell_type": "markdown",
      "source": [
        "## 4.Find surface area and volume of a cylinder\n",
        "\n",
        "Let $r$ is the base radius and $h$ is the height of a right circular cylinder.\n",
        "$$SA=2\\pi r(r+h)$$\n",
        "\n",
        "$$V=\\pi r^2 h$$\n",
        "\n",
        "- **Step 1**:Read the radius.\n",
        "- **Step 2**:Calculate surface area.\n",
        "- **Step 3**:Calculate volume.\n",
        "- **Step 4**:Display the results."
      ],
      "metadata": {
        "id": "Rr--yGIkVoaw"
      }
    },
    {
      "cell_type": "code",
      "source": [
        "#from math import pi\n",
        "pi=3.14\n",
        "r=2.6\n",
        "h=1.6\n",
        "SA=2*pi*r*(r+h)\n",
        "V=pi*r**2*h\n",
        "print((\"Surface Area is {} and Volume is {}\").format(SA,V))"
      ],
      "metadata": {
        "colab": {
          "base_uri": "https://localhost:8080/"
        },
        "id": "czW_LJbuD_Qk",
        "outputId": "bfc8b42f-3679-4670-ccd3-5b0b2f2ad17c"
      },
      "execution_count": 5,
      "outputs": [
        {
          "output_type": "stream",
          "name": "stdout",
          "text": [
            "Surface Area is 68.57760000000002 and Volume is 33.96224\n"
          ]
        }
      ]
    },
    {
      "cell_type": "markdown",
      "source": [
        "## 5.Find area of a circle with radius $r$ using user input\n",
        "\n",
        "- **Step 1**:Read the radius.\n",
        "- **Step 2**:Calculate  area.\n",
        "- **Step 3**:Display the results."
      ],
      "metadata": {
        "id": "sSr3xEtuXdw-"
      }
    },
    {
      "cell_type": "code",
      "source": [
        "\"\"\"\n",
        "program to find area of a circle\n",
        "\"\"\"\n",
        "r=float(input(\"Enter the radius: \"))\n",
        "print(\"Area: \",pi*r**2)"
      ],
      "metadata": {
        "colab": {
          "base_uri": "https://localhost:8080/"
        },
        "id": "JNWvwIbbFcx_",
        "outputId": "33a161a0-9d6d-450a-83b8-e9728fc3787d"
      },
      "execution_count": 6,
      "outputs": [
        {
          "output_type": "stream",
          "name": "stdout",
          "text": [
            "Enter the radius: 4\n",
            "Area:  50.24\n"
          ]
        }
      ]
    },
    {
      "cell_type": "markdown",
      "source": [
        "## 6.Find the area of a rectangle with lenght $l$ and breadth $b$"
      ],
      "metadata": {
        "id": "VRlXLlz9YD6N"
      }
    },
    {
      "cell_type": "code",
      "source": [
        "l=2;b=5.2\n",
        "Area=l*b\n",
        "print(\"Area of the Rectangle is : \",Area)"
      ],
      "metadata": {
        "colab": {
          "base_uri": "https://localhost:8080/"
        },
        "id": "4LWNLkG5Ftze",
        "outputId": "2e47d2ef-04c7-4077-ef7e-578a9707f3e6"
      },
      "execution_count": 3,
      "outputs": [
        {
          "output_type": "stream",
          "name": "stdout",
          "text": [
            "Area of the Rectangle is :  10.4\n"
          ]
        }
      ]
    },
    {
      "cell_type": "markdown",
      "source": [
        "## 7.Replacing a word with another word  in a sentence\n",
        "\n",
        "Use the `replace()` method in `python`\n",
        "\n",
        ">**Syntax:**\n",
        "\n",
        "```\n",
        "str.replace(old,new)\n",
        "```\n",
        "- **Step 1**:Read the string\n",
        "- **Step 2**:Using `str.replace(old,new)` assing new value.\n",
        "- **Step 3**:Display the new string.\n"
      ],
      "metadata": {
        "id": "SP246J1XZHbk"
      }
    },
    {
      "cell_type": "code",
      "source": [
        "# program to replace a word by another word in a sentence\n",
        "\n",
        "text = 'hand ball is a hand full of hands'\n",
        "\n",
        "# replace 'hand' with 'foot'\n",
        "replaced_text = text.replace('hand ', 'foot ')\n",
        "print(replaced_text)"
      ],
      "metadata": {
        "id": "T3EhDm9yGBue"
      },
      "execution_count": null,
      "outputs": []
    },
    {
      "cell_type": "markdown",
      "source": [
        "## 8.Program to remove a word from a sentence\n",
        "\n",
        "We will use the string method `remove()`.\n",
        "\n",
        ">**Syntax:**\n",
        "\n",
        "```\n",
        "str.remove(word to be removed)\n",
        "```\n",
        "- **Step 1:**Enter the string\n",
        "- **Step 2:**Enter the word to be deleted\n",
        "- **Step 3:**Using `replace()` delete the word\n",
        "- **Step 4:**Display the new string"
      ],
      "metadata": {
        "id": "kpxkra3ZjgzQ"
      }
    },
    {
      "cell_type": "code",
      "source": [
        "# program to remove a word from a sentence\n",
        "text = input(\"Enter the String: \")\n",
        "word = input(\"Enter a Word to Delete: \")\n",
        "\n",
        "text = text.replace(word, \"\")\n",
        "print(\"The updated sentence is:\\n\")\n",
        "print(text)"
      ],
      "metadata": {
        "colab": {
          "base_uri": "https://localhost:8080/"
        },
        "id": "Gkdgjp96GqrF",
        "outputId": "901567bd-e34b-4293-8dac-706623132cc8"
      },
      "execution_count": 10,
      "outputs": [
        {
          "output_type": "stream",
          "name": "stdout",
          "text": [
            "Enter the String: hekki world\n",
            "Enter a Word to Delete: world\n",
            "The updated sentence is:\n",
            "\n",
            "hekki \n"
          ]
        }
      ]
    },
    {
      "cell_type": "code",
      "source": [
        "# program to remove a word from a sentence\n",
        "text = input(\"Enter the String: \")\n",
        "word = input(\"Enter a Word to Delete: \")\n",
        "\n",
        "text1 = text.split()\n",
        "text1.remove(word)\n",
        "text=\"\"\n",
        "for j in text1:\n",
        "  text+=j\n",
        "\n",
        "\n",
        "print(\"The updated sentence is:\\n\")\n",
        "print(text)"
      ],
      "metadata": {
        "colab": {
          "base_uri": "https://localhost:8080/"
        },
        "id": "-1NVXT5DI9IQ",
        "outputId": "ec9cc199-c6ef-451e-e1cf-723d96ce1cfa"
      },
      "execution_count": 16,
      "outputs": [
        {
          "output_type": "stream",
          "name": "stdout",
          "text": [
            "Enter the String: hello hi\n",
            "Enter a Word to Delete: hi\n",
            "The updated sentence is:\n",
            "\n",
            "hello\n"
          ]
        }
      ]
    },
    {
      "cell_type": "markdown",
      "source": [
        "## 9.Program to split a sentence into words\n",
        "\n",
        "use the `split()` method\n",
        ">**Syntax:**\n",
        "```\n",
        "str.split()\n",
        "```\n",
        "- **Step 1**:Read the key words in a `list`\n",
        "- **Step 2**:Read the string\n",
        "- **Step 3**:Take the intersection of keyword `list` and `str.split()`\n",
        "- **Step 4**:if any element in the intersection print \"found one\""
      ],
      "metadata": {
        "id": "NRg-zTGOlVKG"
      }
    },
    {
      "cell_type": "code",
      "source": [
        "# program to check atleat one occurance of keywords\n",
        "\n",
        "keyword_list = ['motorcycle', 'bike', 'bicycle', 'dirtbike', \"long\"]\n",
        "all_text = 'The bicycle is just as good company as most husbands and, when it gets old and shabby, a woman can dispose of it and get a new one without shocking the entire community'\n",
        "if set(keyword_list).intersection(all_text.split()):\n",
        "     print(\"Found One\")"
      ],
      "metadata": {
        "colab": {
          "base_uri": "https://localhost:8080/"
        },
        "id": "hBEHmCNvHczX",
        "outputId": "c0812e92-55db-41ff-aceb-a6e5499c758a"
      },
      "execution_count": 13,
      "outputs": [
        {
          "output_type": "stream",
          "name": "stdout",
          "text": [
            "Found One\n"
          ]
        }
      ]
    },
    {
      "cell_type": "markdown",
      "source": [
        "## 10.program to check a number is even or odd\n",
        "\n",
        "- **Step 1**:Enter the number\n",
        "- **Step 2**:Check if number divisible by $2$, then\n",
        " - **Step 2.1** :Print even\n",
        "- **Step 3**:Otherwise Print odd\n"
      ],
      "metadata": {
        "id": "WG6KupkbovWM"
      }
    },
    {
      "cell_type": "code",
      "source": [
        "num = int(input(\"Enter the Number: \"))\n",
        "if num%2==0:\n",
        "    print(\"\\n\",num,\"is an Even Number\")\n",
        "else:\n",
        "    print(\"\\n\",num,\"is an Odd Number\")"
      ],
      "metadata": {
        "colab": {
          "base_uri": "https://localhost:8080/"
        },
        "id": "30_x50DVJzjz",
        "outputId": "49bd29ae-93ad-4fa3-a2b5-4d10775ad6c1"
      },
      "execution_count": 12,
      "outputs": [
        {
          "output_type": "stream",
          "name": "stdout",
          "text": [
            "Enter the Number: 7\n",
            "\n",
            " 7 is an Odd Number\n"
          ]
        }
      ]
    },
    {
      "cell_type": "markdown",
      "source": [
        "## 11.Program to check whether an entered one is an alphabet or not\n",
        "\n",
        "- **Step 1**:Read the character\n",
        "- **Step 2**:Check if the character is between `a` and `z` or between `A` and `Z` then\n",
        " - **Step 2.1**:Print `It is an alphabet`\n",
        "- **Step 3**:Otherwise print `It is not an alphabet`"
      ],
      "metadata": {
        "id": "kEo5cMDdpRlz"
      }
    },
    {
      "cell_type": "code",
      "source": [
        "c = input(\"Enter a Character: \")\n",
        "if c>='a' and c<='z':\n",
        "    print(\"\\nIt is an alphabet\")\n",
        "elif c>='A' and c<='z':\n",
        "    print(\"\\nIt is an alphabet\")\n",
        "else:\n",
        "    print(\"\\nIt is not an alphabet!\")"
      ],
      "metadata": {
        "colab": {
          "base_uri": "https://localhost:8080/"
        },
        "id": "3JnhuAyIKxgf",
        "outputId": "31de2cd4-6e17-47e3-f62a-5349b7e2d65d"
      },
      "execution_count": 14,
      "outputs": [
        {
          "output_type": "stream",
          "name": "stdout",
          "text": [
            "Enter a Character: d\n",
            "\n",
            "It is an alphabet\n"
          ]
        }
      ]
    },
    {
      "cell_type": "markdown",
      "source": [
        "## 12.Program to check whether an entered letter is a vowel or not"
      ],
      "metadata": {
        "id": "C4_oMf3apqzg"
      }
    },
    {
      "cell_type": "code",
      "source": [
        "c = input(\"Enter the Character: \")\n",
        "v={'a','e','i','o','u','A','E','I','O','U'}\n",
        "if c in v:\n",
        "    print(\"\\nIt is a Vowel\")\n",
        "else:\n",
        "    print(\"\\nIt is a Consonant\")"
      ],
      "metadata": {
        "colab": {
          "base_uri": "https://localhost:8080/"
        },
        "id": "gcnxdGslMLZ4",
        "outputId": "b3478ae5-d2ac-4d68-ab3f-ef620944df6d"
      },
      "execution_count": 15,
      "outputs": [
        {
          "output_type": "stream",
          "name": "stdout",
          "text": [
            "Enter the Character: y\n",
            "\n",
            "It is a Consonant\n"
          ]
        }
      ]
    },
    {
      "cell_type": "markdown",
      "source": [
        "## Program to check leap year\n",
        "\n",
        "- **Step 1**:Read the year\n",
        "- **Step 2**:check if\n",
        "  - year divisble by 4 but not divisible by 100 or\n",
        "  - year divisibe by 400 \n",
        "then print \"It is a leap year\"\n",
        "- **Step 3**:Otherwise print \"Not a leap year\""
      ],
      "metadata": {
        "id": "xWyNWqflqt6T"
      }
    },
    {
      "cell_type": "code",
      "source": [
        "y = int(input(\"Enter the Year: \"))\n",
        "\n",
        "if y%4==0 and y%100!=0:\n",
        "    print(\"\\nIt is a Leap Year\")\n",
        "elif y%400==0:\n",
        "    print(\"\\nIt is a Leap Year\")\n",
        "else:\n",
        "    print(\"\\nIt is not a Leap Year\")"
      ],
      "metadata": {
        "colab": {
          "base_uri": "https://localhost:8080/"
        },
        "id": "6t2SRaeqN96h",
        "outputId": "68c1e818-d90b-4a66-ba92-ed762f42437a"
      },
      "execution_count": 17,
      "outputs": [
        {
          "output_type": "stream",
          "name": "stdout",
          "text": [
            "Enter the Year: 1734\n",
            "\n",
            "It is not a Leap Year\n"
          ]
        }
      ]
    }
  ]
}