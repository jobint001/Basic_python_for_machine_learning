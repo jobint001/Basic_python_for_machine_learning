{
  "nbformat": 4,
  "nbformat_minor": 0,
  "metadata": {
    "colab": {
      "provenance": [],
      "authorship_tag": "ABX9TyPJQCZsGtj75cBsvUGvMYJx",
      "include_colab_link": true
    },
    "kernelspec": {
      "name": "python3",
      "display_name": "Python 3"
    },
    "language_info": {
      "name": "python"
    }
  },
  "cells": [
    {
      "cell_type": "markdown",
      "metadata": {
        "id": "view-in-github",
        "colab_type": "text"
      },
      "source": [
        "<a href=\"https://colab.research.google.com/github/jobint001/Basic_python_for_machine_learning/blob/main/BasicPython.ipynb\" target=\"_parent\"><img src=\"https://colab.research.google.com/assets/colab-badge.svg\" alt=\"Open In Colab\"/></a>"
      ]
    },
    {
      "cell_type": "markdown",
      "source": [
        "# Introduction to `Python`\n",
        "First program : Display a Hello"
      ],
      "metadata": {
        "id": "DrDnVSUY7KW6"
      }
    },
    {
      "cell_type": "code",
      "source": [
        "print(\"Hello\")"
      ],
      "metadata": {
        "colab": {
          "base_uri": "https://localhost:8080/"
        },
        "id": "9-bBnqQh73gn",
        "outputId": "1274928c-ee14-4484-f24b-acc82cd52e82"
      },
      "execution_count": 1,
      "outputs": [
        {
          "output_type": "stream",
          "name": "stdout",
          "text": [
            "Hello\n"
          ]
        }
      ]
    },
    {
      "cell_type": "code",
      "source": [
        "a=10\n",
        "print(\"The value of the variable a is \",a)"
      ],
      "metadata": {
        "colab": {
          "base_uri": "https://localhost:8080/"
        },
        "id": "WgjC21Hp88uV",
        "outputId": "85e8610b-4247-4c06-deb6-921ff8a83645"
      },
      "execution_count": 3,
      "outputs": [
        {
          "output_type": "stream",
          "name": "stdout",
          "text": [
            "The value of the variable a is  10\n"
          ]
        }
      ]
    },
    {
      "cell_type": "markdown",
      "source": [
        ">Program to assign an interger and display it"
      ],
      "metadata": {
        "id": "s0PEr4ZN9V0P"
      }
    },
    {
      "cell_type": "code",
      "source": [
        "a=10\n",
        "b=5\n",
        "print(\"The sum of a+b is \",a+b)"
      ],
      "metadata": {
        "colab": {
          "base_uri": "https://localhost:8080/"
        },
        "id": "gqHipqRg9Vn_",
        "outputId": "8ab67ff2-9a48-4f58-d70b-93e79cd6c156"
      },
      "execution_count": 5,
      "outputs": [
        {
          "output_type": "stream",
          "name": "stdout",
          "text": [
            "The sum of a+b is  15\n"
          ]
        }
      ]
    },
    {
      "cell_type": "markdown",
      "source": [
        ">Read two numbers from the user and display sum"
      ],
      "metadata": {
        "id": "yFeixGwo-Ukg"
      }
    },
    {
      "cell_type": "code",
      "source": [
        "a=int(input(\"Enter the first number\")) #input funtion reads values as string int() cast it to interger\n",
        "b=int(input(\"Enter the second  number \"))\n",
        "print(\"The sum is \",a+b)"
      ],
      "metadata": {
        "colab": {
          "base_uri": "https://localhost:8080/"
        },
        "id": "4T6xmaIf-dCt",
        "outputId": "cd1170ac-ce17-46ff-c7e2-bda10242a77b"
      },
      "execution_count": 7,
      "outputs": [
        {
          "output_type": "stream",
          "name": "stdout",
          "text": [
            "Enter the first number\n",
            "2\n",
            "Enter the second  number \n",
            "4\n",
            "The sum is  6\n"
          ]
        }
      ]
    }
  ]
}